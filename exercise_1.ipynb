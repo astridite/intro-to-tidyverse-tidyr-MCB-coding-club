{
  "cells": [
    {
      "metadata": {
        "trusted": true
      },
      "cell_type": "code",
      "source": "# Pivoting wide to long format --------------------------------------------\n\nlibrary(tidyverse)\nlibrary(readr)\n",
      "execution_count": 1,
      "outputs": [
        {
          "output_type": "stream",
          "text": "── \u001b[1mAttaching packages\u001b[22m ─────────────────────────────────────── tidyverse 1.2.1 ──\n\u001b[32m✔\u001b[39m \u001b[34mggplot2\u001b[39m 3.2.0     \u001b[32m✔\u001b[39m \u001b[34mpurrr  \u001b[39m 0.3.3\n\u001b[32m✔\u001b[39m \u001b[34mtibble \u001b[39m 2.1.3     \u001b[32m✔\u001b[39m \u001b[34mdplyr  \u001b[39m 0.8.1\n\u001b[32m✔\u001b[39m \u001b[34mtidyr  \u001b[39m 0.8.3     \u001b[32m✔\u001b[39m \u001b[34mstringr\u001b[39m 1.4.0\n\u001b[32m✔\u001b[39m \u001b[34mreadr  \u001b[39m 1.3.1     \u001b[32m✔\u001b[39m \u001b[34mforcats\u001b[39m 0.4.0\n── \u001b[1mConflicts\u001b[22m ────────────────────────────────────────── tidyverse_conflicts() ──\n\u001b[31m✖\u001b[39m \u001b[34mdplyr\u001b[39m::\u001b[32mfilter()\u001b[39m masks \u001b[34mstats\u001b[39m::filter()\n\u001b[31m✖\u001b[39m \u001b[34mdplyr\u001b[39m::\u001b[32mlag()\u001b[39m    masks \u001b[34mstats\u001b[39m::lag()\n",
          "name": "stderr"
        }
      ]
    },
    {
      "metadata": {
        "trusted": true
      },
      "cell_type": "code",
      "source": "fpkm <- read_delim(\"fpkm.csv\", \";\", escape_double = FALSE, \n                   trim_ws = TRUE)\nhead(fpkm)",
      "execution_count": 6,
      "outputs": [
        {
          "output_type": "stream",
          "text": "Parsed with column specification:\ncols(\n  Gene = \u001b[31mcol_character()\u001b[39m,\n  Swissprot = \u001b[31mcol_character()\u001b[39m,\n  Mercator = \u001b[31mcol_character()\u001b[39m,\n  NST_FT_FPKM = \u001b[32mcol_double()\u001b[39m,\n  NST_75_FPKM = \u001b[32mcol_double()\u001b[39m,\n  NST_55_FPKM = \u001b[32mcol_double()\u001b[39m,\n  NST_35_FPKM = \u001b[32mcol_double()\u001b[39m,\n  NST_AD_FPKM = \u001b[32mcol_double()\u001b[39m,\n  NST_RH_FPKM = \u001b[32mcol_double()\u001b[39m\n)\n",
          "name": "stderr"
        },
        {
          "output_type": "display_data",
          "data": {
            "text/plain": "  Gene         \n1 Xvis03_200001\n2 Xvis03_200002\n3 Xvis03_200004\n4 Xvis03_200005\n5 Xvis03_200006\n6 Xvis03_200007\n  Swissprot                                                       \n1 Glutamine__fructose_6_phosphate aminotransferase [isomerizing] 2\n2 Probable mitochondrial_processing peptidase subunit beta        \n3 Coiled_coil domain_containing protein 18                        \n4 SNAP25 homologous protein SNAP33                                \n5 LYR motif_containing protein 4                                  \n6 NA                                                              \n  Mercator                 NST_FT_FPKM NST_75_FPKM NST_55_FPKM NST_35_FPKM\n1 not assigned-no ontology  4.53         3.75        3.65        4.28     \n2 protein-targeting        12.12        18.39       15.53       17.16     \n3 cell-organisation        15.56        14.05       12.57       23.37     \n4 cell-vesicle transport    3.01         2.32        2.00        2.07     \n5 not assigned-unknown     87.91       121.03      139.45      104.86     \n6 not assigned-unknown      4.61         2.77        1.57        1.27     \n  NST_AD_FPKM NST_RH_FPKM\n1  3.80         1.79     \n2 17.76        16.45     \n3 20.11         7.60     \n4  2.45         0.18     \n5 98.14       143.05     \n6  0.99         2.54     ",
            "text/latex": "A tibble: 6 x 9\n\\begin{tabular}{r|lllllllll}\n Gene & Swissprot & Mercator & NST\\_FT\\_FPKM & NST\\_75\\_FPKM & NST\\_55\\_FPKM & NST\\_35\\_FPKM & NST\\_AD\\_FPKM & NST\\_RH\\_FPKM\\\\\n <chr> & <chr> & <chr> & <dbl> & <dbl> & <dbl> & <dbl> & <dbl> & <dbl>\\\\\n\\hline\n\t Xvis03\\_200001 & Glutamine\\_\\_fructose\\_6\\_phosphate aminotransferase {[}isomerizing{]} 2 & not assigned-no ontology &  4.53 &   3.75 &   3.65 &   4.28 &  3.80 &   1.79\\\\\n\t Xvis03\\_200002 & Probable mitochondrial\\_processing peptidase subunit beta         & protein-targeting        & 12.12 &  18.39 &  15.53 &  17.16 & 17.76 &  16.45\\\\\n\t Xvis03\\_200004 & Coiled\\_coil domain\\_containing protein 18                         & cell-organisation        & 15.56 &  14.05 &  12.57 &  23.37 & 20.11 &   7.60\\\\\n\t Xvis03\\_200005 & SNAP25 homologous protein SNAP33                                 & cell-vesicle transport   &  3.01 &   2.32 &   2.00 &   2.07 &  2.45 &   0.18\\\\\n\t Xvis03\\_200006 & LYR motif\\_containing protein 4                                   & not assigned-unknown     & 87.91 & 121.03 & 139.45 & 104.86 & 98.14 & 143.05\\\\\n\t Xvis03\\_200007 & NA                                                               & not assigned-unknown     &  4.61 &   2.77 &   1.57 &   1.27 &  0.99 &   2.54\\\\\n\\end{tabular}\n",
            "text/markdown": "\nA tibble: 6 x 9\n\n| Gene &lt;chr&gt; | Swissprot &lt;chr&gt; | Mercator &lt;chr&gt; | NST_FT_FPKM &lt;dbl&gt; | NST_75_FPKM &lt;dbl&gt; | NST_55_FPKM &lt;dbl&gt; | NST_35_FPKM &lt;dbl&gt; | NST_AD_FPKM &lt;dbl&gt; | NST_RH_FPKM &lt;dbl&gt; |\n|---|---|---|---|---|---|---|---|---|\n| Xvis03_200001 | Glutamine__fructose_6_phosphate aminotransferase [isomerizing] 2 | not assigned-no ontology |  4.53 |   3.75 |   3.65 |   4.28 |  3.80 |   1.79 |\n| Xvis03_200002 | Probable mitochondrial_processing peptidase subunit beta         | protein-targeting        | 12.12 |  18.39 |  15.53 |  17.16 | 17.76 |  16.45 |\n| Xvis03_200004 | Coiled_coil domain_containing protein 18                         | cell-organisation        | 15.56 |  14.05 |  12.57 |  23.37 | 20.11 |   7.60 |\n| Xvis03_200005 | SNAP25 homologous protein SNAP33                                 | cell-vesicle transport   |  3.01 |   2.32 |   2.00 |   2.07 |  2.45 |   0.18 |\n| Xvis03_200006 | LYR motif_containing protein 4                                   | not assigned-unknown     | 87.91 | 121.03 | 139.45 | 104.86 | 98.14 | 143.05 |\n| Xvis03_200007 | NA                                                               | not assigned-unknown     |  4.61 |   2.77 |   1.57 |   1.27 |  0.99 |   2.54 |\n\n",
            "text/html": "<table>\n<caption>A tibble: 6 x 9</caption>\n<thead>\n\t<tr><th scope=col>Gene</th><th scope=col>Swissprot</th><th scope=col>Mercator</th><th scope=col>NST_FT_FPKM</th><th scope=col>NST_75_FPKM</th><th scope=col>NST_55_FPKM</th><th scope=col>NST_35_FPKM</th><th scope=col>NST_AD_FPKM</th><th scope=col>NST_RH_FPKM</th></tr>\n\t<tr><th scope=col>&lt;chr&gt;</th><th scope=col>&lt;chr&gt;</th><th scope=col>&lt;chr&gt;</th><th scope=col>&lt;dbl&gt;</th><th scope=col>&lt;dbl&gt;</th><th scope=col>&lt;dbl&gt;</th><th scope=col>&lt;dbl&gt;</th><th scope=col>&lt;dbl&gt;</th><th scope=col>&lt;dbl&gt;</th></tr>\n</thead>\n<tbody>\n\t<tr><td>Xvis03_200001</td><td>Glutamine__fructose_6_phosphate aminotransferase [isomerizing] 2</td><td>not assigned-no ontology</td><td> 4.53</td><td>  3.75</td><td>  3.65</td><td>  4.28</td><td> 3.80</td><td>  1.79</td></tr>\n\t<tr><td>Xvis03_200002</td><td>Probable mitochondrial_processing peptidase subunit beta        </td><td>protein-targeting       </td><td>12.12</td><td> 18.39</td><td> 15.53</td><td> 17.16</td><td>17.76</td><td> 16.45</td></tr>\n\t<tr><td>Xvis03_200004</td><td>Coiled_coil domain_containing protein 18                        </td><td>cell-organisation       </td><td>15.56</td><td> 14.05</td><td> 12.57</td><td> 23.37</td><td>20.11</td><td>  7.60</td></tr>\n\t<tr><td>Xvis03_200005</td><td>SNAP25 homologous protein SNAP33                                </td><td>cell-vesicle transport  </td><td> 3.01</td><td>  2.32</td><td>  2.00</td><td>  2.07</td><td> 2.45</td><td>  0.18</td></tr>\n\t<tr><td>Xvis03_200006</td><td>LYR motif_containing protein 4                                  </td><td>not assigned-unknown    </td><td>87.91</td><td>121.03</td><td>139.45</td><td>104.86</td><td>98.14</td><td>143.05</td></tr>\n\t<tr><td>Xvis03_200007</td><td>NA                                                              </td><td>not assigned-unknown    </td><td> 4.61</td><td>  2.77</td><td>  1.57</td><td>  1.27</td><td> 0.99</td><td>  2.54</td></tr>\n</tbody>\n</table>\n"
          },
          "metadata": {}
        }
      ]
    },
    {
      "metadata": {
        "trusted": true
      },
      "cell_type": "code",
      "source": "#wide to long:\nfpkm_long <- fpkm %>%  \n  gather(key=condition, #the name of the new column that the column names will be stored in as keys\n         value=FPKM, #the name of the new column that the values will be stored in\n         NST_FT_FPKM:NST_RH_FPKM) #the range of columns to be pivoted \n",
      "execution_count": 8,
      "outputs": []
    },
    {
      "metadata": {
        "trusted": true
      },
      "cell_type": "code",
      "source": "#back to wide:\nfpkm_wide <- fpkm_long %>% \n  spread(key=condition, value=FPKM)\n",
      "execution_count": null,
      "outputs": []
    }
  ],
  "metadata": {
    "kernelspec": {
      "name": "r",
      "display_name": "R",
      "language": "R"
    },
    "language_info": {
      "mimetype": "text/x-r-source",
      "name": "R",
      "pygments_lexer": "r",
      "version": "3.5.3",
      "file_extension": ".r",
      "codemirror_mode": "r"
    }
  },
  "nbformat": 4,
  "nbformat_minor": 2
}